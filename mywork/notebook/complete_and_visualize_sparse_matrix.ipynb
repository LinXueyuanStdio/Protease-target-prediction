{
 "cells": [
  {
   "cell_type": "markdown",
   "metadata": {},
   "source": []
  },
  {
   "cell_type": "code",
   "execution_count": null,
   "metadata": {
    "ExecuteTime": {
     "end_time": "2019-06-08T09:26:54.090168Z",
     "start_time": "2019-06-08T09:26:54.086017Z"
    },
    "init_cell": true
   },
   "outputs": [],
   "source": [
    "import scipy.io as sio\n",
    "import matplotlib.pyplot as plt\n",
    "import numpy as np\n",
    "import pandas as pd"
   ]
  },
  {
   "cell_type": "code",
   "execution_count": null,
   "metadata": {
    "ExecuteTime": {
     "end_time": "2019-06-08T09:26:54.125226Z",
     "start_time": "2019-06-08T09:26:54.094560Z"
    }
   },
   "outputs": [],
   "source": [
    "# objectA - objectC 关系矩阵\n",
    "R = sio.loadmat('../../project/main/matrices/R1-3.mat')\n",
    "R"
   ]
  },
  {
   "cell_type": "code",
   "execution_count": null,
   "metadata": {
    "ExecuteTime": {
     "end_time": "2019-06-08T09:26:54.140927Z",
     "start_time": "2019-06-08T09:26:54.128160Z"
    }
   },
   "outputs": [],
   "source": [
    "data = R['R_matr']\n",
    "data"
   ]
  },
  {
   "cell_type": "code",
   "execution_count": null,
   "metadata": {
    "ExecuteTime": {
     "end_time": "2019-06-08T09:26:54.162040Z",
     "start_time": "2019-06-08T09:26:54.144994Z"
    }
   },
   "outputs": [],
   "source": [
    "def getNumpyDataFromMatFile(filename = '../../project/main/matrices/R1-3.mat'):\n",
    "    return sio.loadmat(filename)['R_matr']\n",
    "getNumpyDataFromMatFile()"
   ]
  },
  {
   "cell_type": "code",
   "execution_count": null,
   "metadata": {
    "ExecuteTime": {
     "end_time": "2019-06-08T09:26:54.763314Z",
     "start_time": "2019-06-08T09:26:54.165322Z"
    }
   },
   "outputs": [],
   "source": [
    "from sklearn.metrics import matthews_corrcoef"
   ]
  },
  {
   "cell_type": "code",
   "execution_count": null,
   "metadata": {
    "ExecuteTime": {
     "end_time": "2019-06-08T09:26:54.768227Z",
     "start_time": "2019-06-08T09:26:54.765132Z"
    }
   },
   "outputs": [],
   "source": [
    "matrix = data.todense()"
   ]
  },
  {
   "cell_type": "code",
   "execution_count": null,
   "metadata": {
    "ExecuteTime": {
     "end_time": "2019-06-08T09:26:54.831191Z",
     "start_time": "2019-06-08T09:26:54.770616Z"
    }
   },
   "outputs": [],
   "source": [
    "for i in matrix:\n",
    "    print(i)"
   ]
  },
  {
   "cell_type": "markdown",
   "metadata": {},
   "source": [
    "# AE"
   ]
  },
  {
   "cell_type": "code",
   "execution_count": null,
   "metadata": {
    "ExecuteTime": {
     "end_time": "2019-06-08T09:26:54.838482Z",
     "start_time": "2019-06-08T09:26:54.833830Z"
    },
    "init_cell": true
   },
   "outputs": [],
   "source": [
    "import torch\n",
    "from torch import nn\n",
    "import torch.nn.functional as F\n",
    "from torch.autograd import Variable\n",
    "from torch import Tensor"
   ]
  },
  {
   "cell_type": "code",
   "execution_count": null,
   "metadata": {
    "ExecuteTime": {
     "end_time": "2019-06-08T09:26:54.859515Z",
     "start_time": "2019-06-08T09:26:54.842158Z"
    }
   },
   "outputs": [],
   "source": [
    "class LinearAutoEncoder(nn.Module):\n",
    "    def __init__(self, input_size, output_size):\n",
    "        super(LinearAutoEncoder, self).__init__()\n",
    "        self.encoder = nn.Sequential(\n",
    "            nn.Linear(input_size, 32),\n",
    "            nn.ReLU(True),\n",
    "            nn.Linear(32, 24),\n",
    "            nn.ReLU(True),\n",
    "            nn.Linear(24, 16),\n",
    "            nn.ReLU(True))\n",
    "        self.decoder = nn.Sequential(\n",
    "            nn.Linear(16, 24),\n",
    "            nn.ReLU(True),\n",
    "            nn.Linear(24, 32),\n",
    "            nn.ReLU(True),\n",
    "            nn.Linear(32, output_size),\n",
    "            nn.Sigmoid())\n",
    "\n",
    "    def forward(self, x):\n",
    "        x = self.encoder(x)\n",
    "        x = self.decoder(x)\n",
    "        return x"
   ]
  },
  {
   "cell_type": "code",
   "execution_count": null,
   "metadata": {
    "ExecuteTime": {
     "end_time": "2019-06-08T09:26:54.875737Z",
     "start_time": "2019-06-08T09:26:54.861943Z"
    },
    "init_cell": true
   },
   "outputs": [],
   "source": [
    "from torch.utils.data import DataLoader, Dataset"
   ]
  },
  {
   "cell_type": "code",
   "execution_count": null,
   "metadata": {
    "ExecuteTime": {
     "end_time": "2019-06-08T09:26:54.897741Z",
     "start_time": "2019-06-08T09:26:54.879038Z"
    }
   },
   "outputs": [],
   "source": [
    "class LinearDataset(Dataset):\n",
    "    '''\n",
    "    每一个 Item 是 (1, input_size) 的向量，元素范围[0, 1]\n",
    "    '''\n",
    "\n",
    "    def __init__(self, data, transform=None):\n",
    "        self.matrix = data.todense()\n",
    "        self.transform = transform\n",
    "\n",
    "    def __len__(self):\n",
    "        return len(self.matrix)\n",
    "\n",
    "    def __getitem__(self, index):\n",
    "        it = matrix[index]\n",
    "\n",
    "        if self.transform is not None:\n",
    "            it = self.transform(np.asarray(it))\n",
    "            \n",
    "        return it"
   ]
  },
  {
   "cell_type": "code",
   "execution_count": null,
   "metadata": {
    "ExecuteTime": {
     "end_time": "2019-06-08T09:26:54.915280Z",
     "start_time": "2019-06-08T09:26:54.899963Z"
    }
   },
   "outputs": [],
   "source": [
    "data.shape"
   ]
  },
  {
   "cell_type": "code",
   "execution_count": null,
   "metadata": {
    "ExecuteTime": {
     "end_time": "2019-06-08T09:26:54.935757Z",
     "start_time": "2019-06-08T09:26:54.917376Z"
    }
   },
   "outputs": [],
   "source": [
    "from Progbar import Progbar\n",
    "from scipy.stats.stats import pearsonr\n",
    "import os"
   ]
  },
  {
   "cell_type": "code",
   "execution_count": null,
   "metadata": {
    "ExecuteTime": {
     "end_time": "2019-06-08T09:26:55.056326Z",
     "start_time": "2019-06-08T09:26:54.937910Z"
    }
   },
   "outputs": [],
   "source": [
    "def calculate_pcc_mse(output, noisy_data, MSE_loss):\n",
    "    mse = MSE_loss(output, noisy_data).data\n",
    "    np1 = output.cpu().detach().numpy().reshape(-1)\n",
    "    np2 = noisy_data.cpu().detach().numpy().reshape(-1)\n",
    "    PCC, _ = pearsonr(np1, np2)\n",
    "\n",
    "    return PCC, mse\n",
    "def predict(matrix, device=\"cpu\", num_epochs=20):\n",
    "    shape = matrix.shape\n",
    "    dataset = LinearDataset(matrix, Tensor)\n",
    "    dataloader = DataLoader(dataset, batch_size=1, shuffle=True, num_workers=3)\n",
    "    model = LinearAutoEncoder(shape[1], shape[1]).to(device)\n",
    "    MSE_loss = nn.MSELoss()\n",
    "    BCE_Loss = nn.BCELoss()\n",
    "    criterion = MSE_loss\n",
    "    optimizer = torch.optim.Adam(model.parameters(), lr=1e-3, weight_decay=1e-5)\n",
    "\n",
    "    # 训练\n",
    "    if os.path.exists(\"./model.pth\"):\n",
    "        model.load_state_dict(torch.load(\"./model.pth\", \"cpu\"))\n",
    "    else:\n",
    "        model.train()\n",
    "        for epoch in range(num_epochs):\n",
    "            print('epoch [{}/{}]'.format(epoch + 1, num_epochs))\n",
    "            prog = Progbar(len(dataloader))\n",
    "            for i, data in enumerate(dataloader):\n",
    "                noisy_data = data\n",
    "                # ===================forward=====================\n",
    "                output = model(noisy_data)\n",
    "                loss = criterion(output, noisy_data)\n",
    "                pcc, mse = calculate_pcc_mse(output, noisy_data, MSE_loss)\n",
    "                # ===================backward====================\n",
    "                optimizer.zero_grad()\n",
    "                loss.backward()\n",
    "                optimizer.step()\n",
    "                # =====================log=======================\n",
    "                prog.update(i + 1, [(\"loss\", loss.item()), (\"MSE\", mse), (\"PCC\", pcc)])\n",
    "        torch.save(model.state_dict(), \"./model.pth\")\n",
    "\n",
    "    # 预测、评价\n",
    "    model.eval()\n",
    "    dataloader2 = DataLoader(dataset, batch_size=shape[0], shuffle=True, num_workers=3)\n",
    "    for data in dataloader2:\n",
    "        noisy_data = data\n",
    "        # ===================forward=====================\n",
    "        output = model(noisy_data)\n",
    "        loss = criterion(output, noisy_data)\n",
    "        # =====================log and save==============\n",
    "        return output, loss\n",
    "        break  # 只有一个 batch, 一次全拿出来了，不会有第二个\n"
   ]
  },
  {
   "cell_type": "code",
   "execution_count": null,
   "metadata": {
    "ExecuteTime": {
     "end_time": "2019-06-08T09:26:55.087823Z",
     "start_time": "2019-06-08T09:26:55.059373Z"
    }
   },
   "outputs": [],
   "source": [
    "def save_output(output, loss):\n",
    "    output_data_to_save = []\n",
    "    for i in output.data:\n",
    "        it_list = []\n",
    "        for j in i[0].data:\n",
    "            it = j.item()\n",
    "            if it < 0.1:\n",
    "                it_list.append(int(0))\n",
    "            else:\n",
    "                it_list.append(it)\n",
    "        output_data_to_save.append(it_list)\n",
    "    # output_data_to_save 50x40\n",
    "\n",
    "    df_output = pd.DataFrame(output_data_to_save)\n",
    "    df_output.to_csv(\"./output_\"+str(loss.item())+\".csv\")"
   ]
  },
  {
   "cell_type": "code",
   "execution_count": null,
   "metadata": {
    "ExecuteTime": {
     "end_time": "2019-06-08T09:26:55.584274Z",
     "start_time": "2019-06-08T09:26:55.091696Z"
    }
   },
   "outputs": [],
   "source": [
    "output, loss = predict(data)\n",
    "save_output(output, loss)"
   ]
  },
  {
   "cell_type": "code",
   "execution_count": null,
   "metadata": {
    "ExecuteTime": {
     "end_time": "2019-06-08T09:26:55.591942Z",
     "start_time": "2019-06-08T09:26:55.586781Z"
    }
   },
   "outputs": [],
   "source": [
    "output.size()"
   ]
  },
  {
   "cell_type": "code",
   "execution_count": null,
   "metadata": {
    "ExecuteTime": {
     "end_time": "2019-06-08T09:26:55.640885Z",
     "start_time": "2019-06-08T09:26:55.594463Z"
    }
   },
   "outputs": [],
   "source": [
    "loss"
   ]
  },
  {
   "cell_type": "markdown",
   "metadata": {},
   "source": [
    "## 看他重构的矩阵长什么样\n",
    "\n",
    "他的是压缩成csv，需要把0补上去"
   ]
  },
  {
   "cell_type": "code",
   "execution_count": null,
   "metadata": {
    "ExecuteTime": {
     "end_time": "2019-06-08T09:26:55.654962Z",
     "start_time": "2019-06-08T09:26:55.643302Z"
    }
   },
   "outputs": [],
   "source": [
    "def load_R(matPath):\n",
    "    matrix = sio.loadmat(matPath)[\"R_matr\"].todense()\n",
    "    matrix_data = []\n",
    "    for i in np.asarray(matrix):\n",
    "        matrix_data.append([j for j in i])\n",
    "    return matrix_data\n",
    "\n",
    "def save_matrix(matrix, path):\n",
    "    matrix_data = []\n",
    "    for i in np.asarray(matrix):\n",
    "        matrix_data.append([j for j in i])\n",
    "    df_matrix = pd.DataFrame(matrix_data)\n",
    "    df_matrix.to_csv(path)"
   ]
  },
  {
   "cell_type": "code",
   "execution_count": null,
   "metadata": {
    "ExecuteTime": {
     "end_time": "2019-06-08T09:26:55.668884Z",
     "start_time": "2019-06-08T09:26:55.657151Z"
    }
   },
   "outputs": [],
   "source": [
    "def save_mat(path = '../../project/main/matrices/R1-3.mat', output_path = \"./R.csv\"):\n",
    "    Rmatrix = sio.loadmat(path)[\"R_matr\"].todense()\n",
    "    save_matrix(Rmatrix, output_path)"
   ]
  },
  {
   "cell_type": "code",
   "execution_count": null,
   "metadata": {
    "ExecuteTime": {
     "end_time": "2019-06-08T09:26:55.704841Z",
     "start_time": "2019-06-08T09:26:55.670981Z"
    }
   },
   "outputs": [],
   "source": [
    "save_mat('../../project/main/matrices/R1-3.mat')"
   ]
  },
  {
   "cell_type": "code",
   "execution_count": null,
   "metadata": {
    "ExecuteTime": {
     "end_time": "2019-06-08T09:26:55.747666Z",
     "start_time": "2019-06-08T09:26:55.708710Z"
    }
   },
   "outputs": [],
   "source": [
    "def load_Object(matPath='../../project/main/objects/objectA.mat'):\n",
    "    matrix = sio.loadmat(matPath)[\"vett\"]\n",
    "    new_matrix = []\n",
    "    for i in matrix:\n",
    "        new_matrix.append(i[0][0])\n",
    "    return new_matrix\n",
    "\n",
    "def save_Object_mat_to_csv(matPath='../../project/main/objects/objectA.mat', output_path=\"./objectA.csv\"):\n",
    "    new_matrix = load_Object(matPath)\n",
    "    df_matrix = pd.DataFrame(new_matrix)\n",
    "    df_matrix.to_csv(output_path)\n",
    "\n",
    "save_Object_mat_to_csv(matPath='../../project/main/objects/objectA.mat', output_path=\"./objectA.csv\")\n",
    "save_Object_mat_to_csv(matPath='../../project/main/objects/objectB.mat', output_path=\"./objectB.csv\")\n",
    "save_Object_mat_to_csv(matPath='../../project/main/objects/objectC.mat', output_path=\"./objectC.csv\")"
   ]
  },
  {
   "cell_type": "code",
   "execution_count": null,
   "metadata": {
    "ExecuteTime": {
     "end_time": "2019-06-08T09:26:55.755367Z",
     "start_time": "2019-06-08T09:26:55.749976Z"
    }
   },
   "outputs": [],
   "source": [
    "matrix = sio.loadmat('../../project/main/objects/objectA.mat')[\"vett\"]"
   ]
  },
  {
   "cell_type": "code",
   "execution_count": null,
   "metadata": {
    "ExecuteTime": {
     "end_time": "2019-06-08T09:26:55.781353Z",
     "start_time": "2019-06-08T09:26:55.758196Z"
    }
   },
   "outputs": [],
   "source": [
    "new_matrix = []\n",
    "for i in matrix:\n",
    "    new_matrix.append(i[0][0])\n",
    "new_matrix"
   ]
  },
  {
   "cell_type": "code",
   "execution_count": null,
   "metadata": {
    "ExecuteTime": {
     "end_time": "2019-06-08T09:26:55.803089Z",
     "start_time": "2019-06-08T09:26:55.784164Z"
    }
   },
   "outputs": [],
   "source": [
    "def R_csv_to_complete_csv(path):\n",
    "    Rcsv = pd.read_csv(path)\n"
   ]
  },
  {
   "cell_type": "code",
   "execution_count": null,
   "metadata": {
    "ExecuteTime": {
     "end_time": "2019-06-08T09:26:56.000524Z",
     "start_time": "2019-06-08T09:26:55.805817Z"
    }
   },
   "outputs": [],
   "source": [
    "def to_complete_csv(path = '../../project/main/output_s/new_found_relations.csv', output_path=\"./new_found_relations.csv\"):\n",
    "    pd_idx = load_Object(matPath='../../project/main/objects/objectA.mat')\n",
    "    pd_col = load_Object(matPath='../../project/main/objects/objectC.mat')\n",
    "    pd_complete = pd.DataFrame(data=[[0.0]*50]*50, index = pd_idx, columns=pd_idx)\n",
    "    with open(path, \"r\") as F:\n",
    "        for i in F.readlines():\n",
    "            ap = i.split(',')\n",
    "            key_x = ap[0]\n",
    "            key_y = ap[1]\n",
    "            value = float(ap[2])\n",
    "            pd_complete[key_x][key_y] = value\n",
    "    pd_complete.to_csv(output_path)\n",
    "    return pd_complete\n",
    "pd_complete = to_complete_csv()\n",
    "pd_complete"
   ]
  },
  {
   "cell_type": "code",
   "execution_count": null,
   "metadata": {
    "ExecuteTime": {
     "end_time": "2019-06-08T09:26:56.017168Z",
     "start_time": "2019-06-08T09:26:56.003888Z"
    }
   },
   "outputs": [],
   "source": [
    "data = []\n",
    "npdata = pd_complete.to_numpy()\n",
    "for i in range(len(npdata)):\n",
    "    for j in range(len(npdata[i])):\n",
    "        data.append([pd_complete.index[i], pd_complete.columns[j], 10*npdata[i][j]])"
   ]
  },
  {
   "cell_type": "code",
   "execution_count": null,
   "metadata": {
    "ExecuteTime": {
     "end_time": "2019-06-08T09:26:56.088078Z",
     "start_time": "2019-06-08T09:26:56.019533Z"
    }
   },
   "outputs": [],
   "source": [
    "data"
   ]
  },
  {
   "cell_type": "code",
   "execution_count": null,
   "metadata": {
    "ExecuteTime": {
     "end_time": "2019-06-08T09:26:56.111151Z",
     "start_time": "2019-06-08T09:26:56.090460Z"
    }
   },
   "outputs": [],
   "source": [
    "from pyecharts import options as opts\n",
    "from pyecharts.charts import Bar3D\n",
    "\n",
    "def bar3d_base() -> Bar3D:\n",
    "    #data = [(i, j, random.randint(0, 12)) for i in range(6) for j in range(24)]\n",
    "    c = (\n",
    "        Bar3D()\n",
    "        .add(\n",
    "            \"\",\n",
    "            data,\n",
    "            xaxis3d_opts=opts.Axis3DOpts(type_=\"category\"),\n",
    "            yaxis3d_opts=opts.Axis3DOpts(type_=\"category\"),\n",
    "            zaxis3d_opts=opts.Axis3DOpts(type_=\"value\"),\n",
    "        )\n",
    "        .set_global_opts(\n",
    "            visualmap_opts=opts.VisualMapOpts(max_=10),\n",
    "            title_opts=opts.TitleOpts(title=\"Bar3D-基本示例\"),\n",
    "        )\n",
    "    )\n",
    "    return c\n",
    "c = bar3d_base()\n",
    "c.render_notebook()"
   ]
  },
  {
   "cell_type": "code",
   "execution_count": null,
   "metadata": {
    "ExecuteTime": {
     "end_time": "2019-06-08T09:26:56.112350Z",
     "start_time": "2019-06-08T09:26:54.172Z"
    }
   },
   "outputs": [],
   "source": [
    "path = '../../project/main/output_s/new_found_relations.csv'\n",
    "output_path=\"./new_found_relations.csv\"\n",
    "pd_idx = load_Object(matPath='../../project/main/objects/objectA.mat')\n",
    "pd_col = load_Object(matPath='../../project/main/objects/objectA.mat')\n",
    "pd_complete = pd.DataFrame(data=[[0]*50]*50, index = pd_idx, columns=pd_col)\n",
    "with open(path, \"r\") as F:\n",
    "    for i in F.readlines():\n",
    "        ap = i.split(',')\n",
    "        \n",
    "        key_x = ap[0]\n",
    "        key_y = ap[1]\n",
    "        value = float(ap[2])\n",
    "        print(value)\n",
    "        pd_complete[key_x][key_y] = value\n",
    "pd_complete"
   ]
  },
  {
   "cell_type": "code",
   "execution_count": null,
   "metadata": {
    "ExecuteTime": {
     "end_time": "2019-06-08T09:26:56.113173Z",
     "start_time": "2019-06-08T09:26:54.174Z"
    }
   },
   "outputs": [],
   "source": [
    "pd_idx = load_Object(matPath='../../project/main/objects/objectA.mat')\n",
    "pd_col = load_Object(matPath='../../project/main/objects/objectC.mat')\n",
    "pd_complete = pd.DataFrame(data=[[0]*40]*50, index = pd_idx, columns=pd_col)\n",
    "pd_complete"
   ]
  }
 ],
 "metadata": {
  "kernelspec": {
   "display_name": "Python 3",
   "language": "python",
   "name": "python3"
  },
  "language_info": {
   "codemirror_mode": {
    "name": "ipython",
    "version": 3
   },
   "file_extension": ".py",
   "mimetype": "text/x-python",
   "name": "python",
   "nbconvert_exporter": "python",
   "pygments_lexer": "ipython3",
   "version": "3.5.2"
  },
  "varInspector": {
   "cols": {
    "lenName": 16,
    "lenType": 16,
    "lenVar": 40
   },
   "kernels_config": {
    "python": {
     "delete_cmd_postfix": "",
     "delete_cmd_prefix": "del ",
     "library": "var_list.py",
     "varRefreshCmd": "print(var_dic_list())"
    },
    "r": {
     "delete_cmd_postfix": ") ",
     "delete_cmd_prefix": "rm(",
     "library": "var_list.r",
     "varRefreshCmd": "cat(var_dic_list()) "
    }
   },
   "oldHeight": 734.5,
   "position": {
    "height": "40px",
    "left": "981px",
    "right": "20px",
    "top": "-5px",
    "width": "484px"
   },
   "types_to_exclude": [
    "module",
    "function",
    "builtin_function_or_method",
    "instance",
    "_Feature"
   ],
   "varInspector_section_display": "none",
   "window_display": true
  }
 },
 "nbformat": 4,
 "nbformat_minor": 2
}
