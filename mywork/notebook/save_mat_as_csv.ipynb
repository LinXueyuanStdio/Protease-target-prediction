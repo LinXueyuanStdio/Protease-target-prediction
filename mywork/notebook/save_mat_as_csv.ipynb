{
 "cells": [
  {
   "cell_type": "markdown",
   "metadata": {
    "ExecuteTime": {
     "end_time": "2019-06-07T15:26:59.737933Z",
     "start_time": "2019-06-07T15:26:59.712754Z"
    }
   },
   "source": [
    "# 转换`.mat`文件为`.csv`文件"
   ]
  },
  {
   "cell_type": "code",
   "execution_count": null,
   "metadata": {
    "ExecuteTime": {
     "end_time": "2019-06-08T07:26:35.197053Z",
     "start_time": "2019-06-08T07:26:33.161204Z"
    }
   },
   "outputs": [],
   "source": [
    "import scipy.io as sio\n",
    "import matplotlib.pyplot as plt\n",
    "import numpy as np\n",
    "import pandas as pd"
   ]
  },
  {
   "cell_type": "code",
   "execution_count": null,
   "metadata": {
    "ExecuteTime": {
     "end_time": "2019-06-07T16:20:19.313191Z",
     "start_time": "2019-06-07T16:20:19.296568Z"
    }
   },
   "outputs": [],
   "source": [
    "class MatCsvPair:\n",
    "    def __init__(self):\n",
    "        print(\"init\")\n",
    "        \n",
    "    def getOriginalRelationPair(self, name=\"R1-3\"):\n",
    "        return ('../../project/main/matrices/{}.mat'.format(name), \"./{}.csv\".format(name))\n",
    "    \n",
    "    def getObjectPair(self, name=\"objectA\"):\n",
    "        return ('../../project/main/objects/{}.mat'.format(name), \"./{}.csv\".format(name))\n",
    "    \n",
    "    def getSAME_NewFoundRelationPair(self, name=\"new_found_relations\"):\n",
    "        return ('../../project/main/output_s/{}.mat'.format(name), \"./{}.csv\".format(name))\n",
    "    \n",
    "    def getDIFF_NewFoundRelationPair(self, name=\"new_found_relations_row\"):\n",
    "        return ('../../project/main/output_d/{}.mat'.format(name), \"./{}.csv\".format(name))\n",
    "\n",
    "pathPair = MatCsvPair()"
   ]
  },
  {
   "cell_type": "markdown",
   "metadata": {},
   "source": [
    "## Object\n",
    "\n",
    "包括 ObjectA, ObjectB, ObjectC 等"
   ]
  },
  {
   "cell_type": "code",
   "execution_count": null,
   "metadata": {
    "ExecuteTime": {
     "end_time": "2019-06-08T07:44:58.147623Z",
     "start_time": "2019-06-08T07:44:58.138781Z"
    }
   },
   "outputs": [],
   "source": [
    "def load_Object(mat_path, key = \"vett\"):\n",
    "    \"\"\"加载mat_path文件中标签为key的那个矩阵，返回构造好的list\n",
    "    \"\"\"\n",
    "    matrix = sio.loadmat(mat_path)[key]\n",
    "    new_matrix = []\n",
    "    for i in matrix:\n",
    "        new_matrix.append(i[0][0])\n",
    "    return new_matrix"
   ]
  },
  {
   "cell_type": "code",
   "execution_count": null,
   "metadata": {
    "ExecuteTime": {
     "end_time": "2019-06-08T04:02:40.376559Z",
     "start_time": "2019-06-08T04:02:40.319274Z"
    }
   },
   "outputs": [],
   "source": [
    "def save_Object_mat_to_csv(mat_path, output_path):\n",
    "    new_matrix = load_Object(mat_path)\n",
    "    df_matrix = pd.DataFrame(new_matrix)\n",
    "    df_matrix.to_csv(output_path)\n",
    "    return df_matrix"
   ]
  },
  {
   "cell_type": "code",
   "execution_count": null,
   "metadata": {
    "ExecuteTime": {
     "end_time": "2019-06-08T04:03:37.489719Z",
     "start_time": "2019-06-08T04:03:37.462767Z"
    },
    "scrolled": true
   },
   "outputs": [],
   "source": [
    "save_Object_mat_to_csv('../../project/main/objects/objectA.mat', \"./objectA.csv\")"
   ]
  },
  {
   "cell_type": "code",
   "execution_count": null,
   "metadata": {
    "ExecuteTime": {
     "end_time": "2019-06-08T04:03:41.772965Z",
     "start_time": "2019-06-08T04:03:41.748585Z"
    },
    "scrolled": true
   },
   "outputs": [],
   "source": [
    "save_Object_mat_to_csv('../../project/main/objects/objectB.mat', \"./objectB.csv\")"
   ]
  },
  {
   "cell_type": "code",
   "execution_count": null,
   "metadata": {
    "ExecuteTime": {
     "end_time": "2019-06-08T04:03:45.938806Z",
     "start_time": "2019-06-08T04:03:45.919801Z"
    },
    "scrolled": true
   },
   "outputs": [],
   "source": [
    "save_Object_mat_to_csv('../../project/main/objects/objectC.mat', \"./objectC.csv\")"
   ]
  },
  {
   "cell_type": "markdown",
   "metadata": {},
   "source": [
    "## R 矩阵和 $\\theta$ 矩阵\n",
    "\n",
    "R 矩阵，包括 R1-2.mat, R1-3.mat, R2-3.mat, R2-1.mat, R2-3.mat, R3-1.mat\n",
    "\n",
    "R 矩阵是不同数据类型的关系矩阵。R 矩阵不一定是方阵。\n",
    "\n",
    "$\\theta$ 矩阵，包括 T1-1.mat, T2-1.mat, T3-1.mat\n",
    "\n",
    "$\\theta$ 矩阵是相同数据类型的关系矩阵。$\\theta$ 矩阵一定是方阵。"
   ]
  },
  {
   "cell_type": "code",
   "execution_count": null,
   "metadata": {
    "ExecuteTime": {
     "end_time": "2019-06-08T07:42:59.587001Z",
     "start_time": "2019-06-08T07:42:59.577850Z"
    }
   },
   "outputs": [],
   "source": [
    "def save_mat_to_csv(key, path, output_path):\n",
    "    matrix = sio.loadmat(path)[key].todense()\n",
    "    matrix_data = []\n",
    "    for i in np.asarray(matrix):\n",
    "        matrix_data.append([j for j in i])\n",
    "    df_matrix = pd.DataFrame(matrix_data)\n",
    "    df_matrix.to_csv(output_path)\n",
    "    return df_matrix"
   ]
  },
  {
   "cell_type": "code",
   "execution_count": null,
   "metadata": {
    "ExecuteTime": {
     "end_time": "2019-06-08T07:43:00.597460Z",
     "start_time": "2019-06-08T07:43:00.592995Z"
    }
   },
   "outputs": [],
   "source": [
    "def save_OriginalR_mat_to_csv(path = '../../project/main/matrices/R1-3.mat', output_path = \"./R.csv\"):\n",
    "    return save_mat_to_csv(\"R_matr\", path, output_path)"
   ]
  },
  {
   "cell_type": "code",
   "execution_count": null,
   "metadata": {
    "ExecuteTime": {
     "end_time": "2019-06-08T07:43:03.261950Z",
     "start_time": "2019-06-08T07:43:03.185606Z"
    }
   },
   "outputs": [],
   "source": [
    "save_OriginalR_mat_to_csv('../../project/main/matrices/R1-3.mat', \"./R1-3.csv\")"
   ]
  },
  {
   "cell_type": "code",
   "execution_count": null,
   "metadata": {
    "ExecuteTime": {
     "end_time": "2019-06-08T07:35:47.946541Z",
     "start_time": "2019-06-08T07:35:47.937769Z"
    }
   },
   "outputs": [],
   "source": [
    "def save_OriginalTheta_mat_to_csv(path = '../../project/main/matrices/T1-1.mat', output_path = \"./T1-1.csv\"):\n",
    "    return save_mat_to_csv(\"teta_matr\", path, output_path)"
   ]
  },
  {
   "cell_type": "code",
   "execution_count": null,
   "metadata": {
    "ExecuteTime": {
     "end_time": "2019-06-08T07:35:50.395888Z",
     "start_time": "2019-06-08T07:35:50.315867Z"
    }
   },
   "outputs": [],
   "source": [
    "save_OriginalTheta_mat_to_csv('../../project/main/matrices/T1-1.mat', \"./T1-1.csv\")"
   ]
  },
  {
   "cell_type": "markdown",
   "metadata": {},
   "source": [
    "## new_found_relations : SAME MODE and DIFFERENT MODE\n",
    "\n",
    "`new_found_relations.mat` in SAME MODE is generated from `R1-3.mat`, etc.\n",
    "\n",
    "`new_found_relations_row.mat` and `new_found_relations_col.mat` in DIFFERENT MODE is generated from `Theta.mat`, etc.\n",
    "\n",
    "他的是压缩成csv，需要把0补上去"
   ]
  },
  {
   "cell_type": "code",
   "execution_count": null,
   "metadata": {
    "ExecuteTime": {
     "end_time": "2019-06-08T08:08:36.972680Z",
     "start_time": "2019-06-08T08:08:36.960847Z"
    }
   },
   "outputs": [],
   "source": [
    "def load_relation(pd_idx, pd_col, relation_path):\n",
    "    pd_complete = pd.DataFrame(data=[[0.0]*len(pd_col)]*len(pd_idx), index = pd_idx, columns=pd_col)\n",
    "    with open(relation_path, \"r\") as F:\n",
    "        for i in F.readlines():\n",
    "            ap = i.split(',')\n",
    "            key_x = ap[0]\n",
    "            key_y = ap[1]\n",
    "            value = float(ap[2])\n",
    "            pd_complete[key_y][key_x] = value\n",
    "    return pd_complete"
   ]
  },
  {
   "cell_type": "code",
   "execution_count": null,
   "metadata": {
    "ExecuteTime": {
     "end_time": "2019-06-08T08:09:15.678999Z",
     "start_time": "2019-06-08T08:09:15.672890Z"
    }
   },
   "outputs": [],
   "source": [
    "def save_SAME_MODE_new_found_relations_mat_to_csv(\n",
    "    idx_obj_path='../../project/main/objects/objectA.mat',\n",
    "    relation_path = '../../project/main/output_s/new_found_relations.csv', \n",
    "    output_path=\"./new_found_relations.csv\"):\n",
    "    pd_idx = load_Object(idx_obj_path)\n",
    "    pd_complete = load_relation(pd_idx, pd_idx, relation_path)\n",
    "    pd_complete.to_csv(output_path)\n",
    "    return pd_complete"
   ]
  },
  {
   "cell_type": "code",
   "execution_count": null,
   "metadata": {
    "ExecuteTime": {
     "end_time": "2019-06-08T08:09:17.662060Z",
     "start_time": "2019-06-08T08:09:17.513493Z"
    }
   },
   "outputs": [],
   "source": [
    "save_SAME_MODE_new_found_relations_mat_to_csv(\n",
    "    idx_obj_path='../../project/main/objects/objectA.mat',\n",
    "    relation_path='../../project/main/output_s/new_found_relations.csv', \n",
    "    output_path=\"./new_found_relations.csv\")"
   ]
  },
  {
   "cell_type": "code",
   "execution_count": null,
   "metadata": {
    "ExecuteTime": {
     "end_time": "2019-06-08T08:08:31.704908Z",
     "start_time": "2019-06-08T08:08:31.692446Z"
    }
   },
   "outputs": [],
   "source": [
    "def save_DIFF_MODE_new_found_relations_mat_to_csv(\n",
    "    idx_obj_path='../../project/main/objects/objectB.mat',\n",
    "    col_obj_path='../../project/main/objects/objectA.mat',\n",
    "    relation_path = '../../project/main/output_d/new_found_relations_row.csv',\n",
    "    output_path = \"./new_found_relations.csv\"):\n",
    "    pd_idx = load_Object(idx_obj_path)\n",
    "    pd_col = load_Object(col_obj_path)\n",
    "    pd_complete = load_relation(pd_idx, pd_col, relation_path)\n",
    "    pd_complete.to_csv(output_path)\n",
    "    return pd_complete"
   ]
  },
  {
   "cell_type": "code",
   "execution_count": null,
   "metadata": {
    "ExecuteTime": {
     "end_time": "2019-06-08T08:08:40.167462Z",
     "start_time": "2019-06-08T08:08:39.841955Z"
    }
   },
   "outputs": [],
   "source": [
    "save_DIFF_MODE_new_found_relations_mat_to_csv(\n",
    "    idx_obj_path='../../project/main/objects/objectB.mat',\n",
    "    col_obj_path='../../project/main/objects/objectA.mat',\n",
    "    relation_path='../../project/main/output_d/new_found_relations_row.csv', \n",
    "    output_path=\"./new_found_relations_row.csv\")"
   ]
  },
  {
   "cell_type": "code",
   "execution_count": null,
   "metadata": {
    "ExecuteTime": {
     "end_time": "2019-06-08T03:58:50.997178Z",
     "start_time": "2019-06-08T03:58:50.694849Z"
    }
   },
   "outputs": [],
   "source": [
    "save_DIFF_MODE_new_found_relations_mat_to_csv(\n",
    "    idx_obj_path='../../project/main/objects/objectB.mat',\n",
    "    col_obj_path='../../project/main/objects/objectA.mat',\n",
    "    relation_path='../../project/main/output_d/new_found_relations_col.csv',\n",
    "    output_path=\"./new_found_relations_col.csv\")"
   ]
  },
  {
   "cell_type": "markdown",
   "metadata": {},
   "source": [
    "看下shape"
   ]
  },
  {
   "cell_type": "code",
   "execution_count": null,
   "metadata": {
    "ExecuteTime": {
     "end_time": "2019-06-07T16:21:54.580613Z",
     "start_time": "2019-06-07T16:21:54.573733Z"
    }
   },
   "outputs": [],
   "source": [
    "pd_col = load_Object(mat_path='../../project/main/objects/objectC.mat')\n",
    "len(pd_col)"
   ]
  },
  {
   "cell_type": "code",
   "execution_count": null,
   "metadata": {
    "ExecuteTime": {
     "end_time": "2019-06-08T04:07:12.910264Z",
     "start_time": "2019-06-08T04:07:12.893768Z"
    }
   },
   "outputs": [],
   "source": [
    "def get_matrix_shape_likely(path = '../../project/main/output_d/new_found_relations_row.csv'):\n",
    "    key_x = []\n",
    "    key_y = []\n",
    "\n",
    "    with open(path, \"r\") as F:\n",
    "        for i in F.readlines():\n",
    "            ap = i.split(',')\n",
    "            key_x.append(ap[0])\n",
    "            key_y.append(ap[1])\n",
    "\n",
    "    key_x = list(set(key_x))\n",
    "    key_y = list(set(key_y))\n",
    "    \n",
    "    print(key_x, key_y)\n",
    "\n",
    "    return (key_x, key_y)"
   ]
  },
  {
   "cell_type": "code",
   "execution_count": null,
   "metadata": {},
   "outputs": [],
   "source": []
  },
  {
   "cell_type": "code",
   "execution_count": null,
   "metadata": {},
   "outputs": [],
   "source": []
  },
  {
   "cell_type": "code",
   "execution_count": null,
   "metadata": {},
   "outputs": [],
   "source": []
  },
  {
   "cell_type": "code",
   "execution_count": null,
   "metadata": {},
   "outputs": [],
   "source": []
  }
 ],
 "metadata": {
  "kernelspec": {
   "display_name": "Python 3",
   "language": "python",
   "name": "python3"
  },
  "language_info": {
   "codemirror_mode": {
    "name": "ipython",
    "version": 3
   },
   "file_extension": ".py",
   "mimetype": "text/x-python",
   "name": "python",
   "nbconvert_exporter": "python",
   "pygments_lexer": "ipython3",
   "version": "3.5.2"
  },
  "varInspector": {
   "cols": {
    "lenName": 16,
    "lenType": 16,
    "lenVar": 40
   },
   "kernels_config": {
    "python": {
     "delete_cmd_postfix": "",
     "delete_cmd_prefix": "del ",
     "library": "var_list.py",
     "varRefreshCmd": "print(var_dic_list())"
    },
    "r": {
     "delete_cmd_postfix": ") ",
     "delete_cmd_prefix": "rm(",
     "library": "var_list.r",
     "varRefreshCmd": "cat(var_dic_list()) "
    }
   },
   "types_to_exclude": [
    "module",
    "function",
    "builtin_function_or_method",
    "instance",
    "_Feature"
   ],
   "window_display": true
  }
 },
 "nbformat": 4,
 "nbformat_minor": 2
}
