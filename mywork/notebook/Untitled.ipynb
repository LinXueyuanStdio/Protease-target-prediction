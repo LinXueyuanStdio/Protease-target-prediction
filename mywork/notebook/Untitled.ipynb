{
 "cells": [
  {
   "cell_type": "code",
   "execution_count": 1,
   "metadata": {
    "ExecuteTime": {
     "end_time": "2019-05-16T00:25:25.218532Z",
     "start_time": "2019-05-16T00:25:23.192603Z"
    },
    "init_cell": true
   },
   "outputs": [],
   "source": [
    "import scipy.io as sio\n",
    "import matplotlib.pyplot as plt\n",
    "import numpy as np\n",
    "import pandas as pd"
   ]
  },
  {
   "cell_type": "code",
   "execution_count": 2,
   "metadata": {
    "ExecuteTime": {
     "end_time": "2019-05-16T00:25:25.229501Z",
     "start_time": "2019-05-16T00:25:25.220318Z"
    }
   },
   "outputs": [
    {
     "data": {
      "text/plain": [
       "{'R_matr': <50x40 sparse matrix of type '<class 'numpy.float64'>'\n",
       " \twith 209 stored elements in Compressed Sparse Column format>,\n",
       " '__globals__': [],\n",
       " '__header__': b'MATLAB 5.0 MAT-file, Platform: GLNXA64, Created on: Fri Jan 25 19:42:45 2019',\n",
       " '__version__': '1.0'}"
      ]
     },
     "execution_count": 2,
     "metadata": {},
     "output_type": "execute_result"
    }
   ],
   "source": [
    "# objectA - objectC 关系矩阵\n",
    "R = sio.loadmat('../../project/matrices/R1-3.mat')\n",
    "R"
   ]
  },
  {
   "cell_type": "code",
   "execution_count": 3,
   "metadata": {
    "ExecuteTime": {
     "end_time": "2019-05-16T00:25:25.244726Z",
     "start_time": "2019-05-16T00:25:25.233369Z"
    }
   },
   "outputs": [
    {
     "data": {
      "text/plain": [
       "<50x40 sparse matrix of type '<class 'numpy.float64'>'\n",
       "\twith 209 stored elements in Compressed Sparse Column format>"
      ]
     },
     "execution_count": 3,
     "metadata": {},
     "output_type": "execute_result"
    }
   ],
   "source": [
    "data = R['R_matr']\n",
    "data"
   ]
  },
  {
   "cell_type": "code",
   "execution_count": 4,
   "metadata": {
    "ExecuteTime": {
     "end_time": "2019-05-16T00:25:25.269073Z",
     "start_time": "2019-05-16T00:25:25.246808Z"
    }
   },
   "outputs": [
    {
     "data": {
      "text/plain": [
       "<50x40 sparse matrix of type '<class 'numpy.float64'>'\n",
       "\twith 209 stored elements in Compressed Sparse Column format>"
      ]
     },
     "execution_count": 4,
     "metadata": {},
     "output_type": "execute_result"
    }
   ],
   "source": [
    "def getNumpyDataFromMatFile(filename = '../../project/matrices/R1-3.mat'):\n",
    "    return sio.loadmat(filename)['R_matr']\n",
    "getNumpyDataFromMatFile()"
   ]
  },
  {
   "cell_type": "code",
   "execution_count": 5,
   "metadata": {
    "ExecuteTime": {
     "end_time": "2019-05-16T00:25:26.001254Z",
     "start_time": "2019-05-16T00:25:25.271529Z"
    }
   },
   "outputs": [],
   "source": [
    "from sklearn.metrics import matthews_corrcoef"
   ]
  },
  {
   "cell_type": "code",
   "execution_count": 6,
   "metadata": {
    "ExecuteTime": {
     "end_time": "2019-05-16T00:25:26.005311Z",
     "start_time": "2019-05-16T00:25:26.002830Z"
    }
   },
   "outputs": [],
   "source": [
    "matrix = data.todense()"
   ]
  },
  {
   "cell_type": "code",
   "execution_count": 7,
   "metadata": {
    "ExecuteTime": {
     "end_time": "2019-05-16T00:25:26.071529Z",
     "start_time": "2019-05-16T00:25:26.007022Z"
    }
   },
   "outputs": [
    {
     "name": "stdout",
     "output_type": "stream",
     "text": [
      "[[0.       0.       0.       0.       0.       0.       0.       0.\n",
      "  0.       0.       0.       0.       0.       0.       0.912053 0.\n",
      "  0.       0.       0.114144 0.       0.       0.       0.       0.\n",
      "  0.       0.       0.       0.       0.       0.       0.       0.\n",
      "  0.       0.       0.       0.       0.711648 0.       0.       0.      ]]\n",
      "[[0.       0.       0.       0.       0.       0.       0.       0.\n",
      "  0.       0.       0.       0.       0.       0.       0.       0.11607\n",
      "  0.       0.       0.       0.       0.       0.       0.       0.\n",
      "  0.90975  0.       0.199099 0.       0.       0.528818 0.       0.\n",
      "  0.978274 0.806647 0.       0.       0.154204 0.984133 0.       0.      ]]\n",
      "[[0.       0.       0.       0.       0.       0.       0.426262 0.\n",
      "  0.151101 0.       0.       0.       0.       0.       0.       0.\n",
      "  0.       0.       0.       0.       0.       0.871504 0.       0.\n",
      "  0.       0.       0.       0.       0.       0.       0.       0.\n",
      "  0.       0.       0.       0.204357 0.       0.       0.       0.      ]]\n",
      "[[0.       0.       0.       0.       0.       0.       0.       0.456115\n",
      "  0.       0.       0.       0.794732 0.       0.       0.       0.\n",
      "  0.       0.       0.       0.       0.       0.       0.       0.\n",
      "  0.       0.       0.       0.       0.       0.       0.       0.\n",
      "  0.       0.       0.       0.       0.       0.       0.       0.      ]]\n",
      "[[0.       0.       0.036784 0.       0.       0.       0.       0.\n",
      "  0.       0.068565 0.       0.       0.       0.       0.       0.\n",
      "  0.       0.       0.       0.       0.393153 0.       0.       0.\n",
      "  0.       0.       0.       0.       0.       0.       0.       0.\n",
      "  0.       0.       0.156817 0.107682 0.       0.       0.       0.      ]]\n",
      "[[0.       0.       0.650854 0.       0.       0.       0.       0.\n",
      "  0.       0.022688 0.753084 0.       0.       0.842298 0.       0.\n",
      "  0.       0.       0.       0.       0.       0.       0.       0.\n",
      "  0.       0.       0.       0.       0.       0.811912 0.       0.\n",
      "  0.       0.       0.       0.       0.       0.       0.       0.      ]]\n",
      "[[0.       0.350725 0.       0.904357 0.       0.       0.       0.\n",
      "  0.       0.       0.       0.       0.       0.       0.       0.\n",
      "  0.       0.392035 0.       0.991879 0.       0.       0.       0.292741\n",
      "  0.388666 0.       0.       0.       0.       0.       0.       0.\n",
      "  0.       0.       0.       0.       0.       0.       0.       0.      ]]\n",
      "[[0.       0.       0.       0.       0.       0.       0.       0.26968\n",
      "  0.       0.       0.       0.       0.       0.       0.       0.\n",
      "  0.       0.       0.10644  0.       0.225862 0.       0.       0.\n",
      "  0.       0.       0.       0.       0.       0.       0.       0.\n",
      "  0.       0.       0.       0.       0.       0.       0.       0.      ]]\n",
      "[[0.       0.       0.       0.       0.       0.021536 0.       0.\n",
      "  0.       0.       0.       0.       0.       0.       0.298341 0.313225\n",
      "  0.       0.       0.       0.       0.       0.050043 0.       0.\n",
      "  0.       0.       0.715844 0.       0.       0.       0.       0.\n",
      "  0.       0.       0.       0.       0.       0.       0.475195 0.      ]]\n",
      "[[0.       0.       0.       0.       0.       0.       0.       0.\n",
      "  0.       0.       0.       0.       0.       0.       0.       0.\n",
      "  0.       0.       0.       0.945513 0.       0.       0.       0.\n",
      "  0.       0.       0.       0.       0.       0.       0.       0.\n",
      "  0.       0.       0.170137 0.       0.       0.011208 0.       0.393395]]\n",
      "[[0.777145 0.       0.       0.       0.       0.       0.       0.\n",
      "  0.       0.       0.090131 0.       0.       0.       0.       0.\n",
      "  0.       0.       0.       0.       0.       0.       0.       0.077889\n",
      "  0.       0.       0.       0.       0.       0.       0.       0.815036\n",
      "  0.402734 0.       0.127142 0.       0.       0.       0.       0.602332]]\n",
      "[[0.       0.       0.       0.       0.       0.       0.       0.\n",
      "  0.       0.       0.       0.       0.       0.       0.       0.\n",
      "  0.455952 0.       0.       0.       0.       0.       0.       0.\n",
      "  0.       0.065885 0.       0.       0.       0.       0.       0.\n",
      "  0.       0.       0.260687 0.       0.       0.       0.       0.      ]]\n",
      "[[0.37057  0.       0.       0.       0.       0.       0.       0.\n",
      "  0.       0.       0.       0.       0.       0.168664 0.       0.\n",
      "  0.       0.       0.       0.       0.       0.       0.       0.\n",
      "  0.       0.       0.       0.       0.       0.       0.       0.\n",
      "  0.       0.       0.       0.       0.       0.118039 0.       0.      ]]\n",
      "[[0.       0.00582  0.       0.       0.       0.       0.713589 0.\n",
      "  0.       0.       0.       0.       0.       0.       0.       0.\n",
      "  0.       0.       0.       0.       0.       0.       0.       0.\n",
      "  0.       0.       0.       0.       0.       0.       0.41239  0.233347\n",
      "  0.       0.       0.       0.       0.       0.       0.       0.      ]]\n",
      "[[0.       0.       0.645058 0.       0.       0.       0.       0.\n",
      "  0.       0.       0.       0.       0.       0.       0.       0.\n",
      "  0.       0.       0.       0.       0.       0.       0.       0.\n",
      "  0.       0.       0.244553 0.       0.       0.       0.       0.\n",
      "  0.       0.       0.       0.       0.       0.       0.       0.      ]]\n",
      "[[0.       0.       0.       0.623827 0.       0.711896 0.       0.\n",
      "  0.213519 0.       0.       0.       0.       0.       0.       0.\n",
      "  0.       0.355166 0.       0.       0.       0.       0.       0.\n",
      "  0.       0.       0.       0.       0.       0.       0.       0.\n",
      "  0.       0.       0.       0.       0.       0.       0.       0.      ]]\n",
      "[[0.       0.       0.       0.       0.       0.       0.       0.\n",
      "  0.       0.       0.       0.       0.       0.       0.       0.\n",
      "  0.       0.       0.       0.       0.       0.       0.       0.\n",
      "  0.       0.690537 0.976524 0.       0.       0.163919 0.       0.\n",
      "  0.       0.       0.       0.       0.       0.       0.       0.924847]]\n",
      "[[0.       0.       0.       0.       0.       0.       0.       0.\n",
      "  0.       0.       0.       0.       0.       0.       0.       0.\n",
      "  0.       0.       0.       0.       0.       0.       0.       0.\n",
      "  0.       0.       0.       0.       0.300114 0.       0.       0.229416\n",
      "  0.       0.       0.       0.       0.       0.       0.       0.      ]]\n",
      "[[0.512067 0.       0.       0.       0.       0.       0.       0.\n",
      "  0.       0.       0.       0.       0.       0.803905 0.       0.\n",
      "  0.       0.       0.       0.       0.       0.       0.593196 0.128766\n",
      "  0.       0.       0.       0.538917 0.310462 0.       0.       0.\n",
      "  0.       0.       0.       0.       0.       0.       0.       0.663041]]\n",
      "[[0.       0.       0.129695 0.       0.       0.       0.       0.286727\n",
      "  0.       0.       0.       0.       0.       0.       0.       0.\n",
      "  0.       0.       0.       0.       0.       0.       0.       0.360724\n",
      "  0.       0.       0.       0.       0.       0.       0.       0.\n",
      "  0.       0.       0.       0.       0.       0.       0.       0.      ]]\n",
      "[[0.113197 0.       0.757904 0.       0.       0.       0.       0.\n",
      "  0.       0.       0.       0.       0.       0.       0.       0.\n",
      "  0.       0.24584  0.       0.       0.       0.       0.315672 0.\n",
      "  0.       0.       0.       0.       0.918748 0.       0.       0.\n",
      "  0.       0.015519 0.       0.       0.       0.       0.315678 0.      ]]\n",
      "[[0.       0.       0.       0.       0.       0.       0.       0.\n",
      "  0.       0.188736 0.       0.674126 0.       0.       0.       0.\n",
      "  0.377375 0.       0.       0.       0.       0.       0.       0.123573\n",
      "  0.       0.       0.       0.       0.       0.       0.       0.\n",
      "  0.       0.       0.01819  0.       0.       0.950992 0.539466 0.      ]]\n",
      "[[0.       0.       0.       0.       0.       0.       0.       0.\n",
      "  0.       0.       0.       0.       0.       0.       0.       0.\n",
      "  0.       0.       0.284464 0.       0.       0.       0.384275 0.\n",
      "  0.       0.       0.       0.       0.       0.       0.       0.\n",
      "  0.       0.       0.       0.       0.       0.       0.       0.      ]]\n",
      "[[0.       0.       0.       0.356153 0.       0.       0.       0.\n",
      "  0.       0.       0.       0.       0.       0.       0.185816 0.720848\n",
      "  0.       0.       0.       0.       0.       0.       0.370953 0.\n",
      "  0.131872 0.522016 0.       0.       0.       0.       0.       0.\n",
      "  0.       0.       0.       0.       0.       0.       0.       0.      ]]\n",
      "[[0.       0.       0.       0.415097 0.       0.       0.       0.\n",
      "  0.       0.       0.       0.       0.       0.       0.       0.\n",
      "  0.       0.       0.       0.       0.       0.       0.       0.\n",
      "  0.       0.       0.       0.       0.62647  0.       0.226426 0.\n",
      "  0.289177 0.       0.711661 0.       0.683014 0.       0.441637 0.      ]]\n",
      "[[0.       0.       0.       0.       0.       0.       0.       0.\n",
      "  0.       0.860384 0.       0.       0.       0.       0.       0.\n",
      "  0.       0.       0.       0.       0.       0.       0.       0.\n",
      "  0.       0.740626 0.       0.       0.       0.       0.620743 0.\n",
      "  0.       0.       0.       0.       0.       0.       0.       0.011531]]\n",
      "[[0.840724 0.       0.       0.       0.       0.       0.       0.\n",
      "  0.       0.       0.221056 0.       0.       0.       0.       0.\n",
      "  0.       0.       0.       0.       0.       0.       0.       0.\n",
      "  0.       0.       0.       0.       0.       0.       0.       0.\n",
      "  0.       0.       0.       0.       0.432097 0.       0.       0.      ]]\n",
      "[[0.       0.       0.       0.967409 0.       0.       0.       0.99169\n",
      "  0.       0.       0.       0.051193 0.697987 0.       0.       0.\n",
      "  0.       0.       0.       0.618041 0.       0.       0.       0.\n",
      "  0.       0.       0.       0.       0.       0.       0.       0.\n",
      "  0.       0.       0.       0.       0.       0.       0.       0.378842]]\n",
      "[[0.       0.       0.       0.       0.       0.       0.       0.\n",
      "  0.       0.       0.       0.       0.462279 0.       0.       0.35117\n",
      "  0.       0.       0.       0.       0.       0.       0.       0.\n",
      "  0.       0.       0.       0.       0.       0.       0.       0.\n",
      "  0.       0.       0.       0.       0.       0.       0.       0.      ]]\n",
      "[[0.       0.       0.       0.       0.       0.       0.       0.\n",
      "  0.       0.       0.       0.       0.071145 0.       0.978668 0.\n",
      "  0.118512 0.       0.       0.       0.       0.       0.       0.\n",
      "  0.       0.       0.       0.       0.       0.       0.       0.\n",
      "  0.       0.       0.       0.       0.       0.       0.       0.      ]]\n",
      "[[0.       0.       0.273785 0.       0.       0.       0.       0.\n",
      "  0.       0.       0.       0.       0.       0.       0.       0.\n",
      "  0.       0.       0.       0.       0.       0.       0.       0.\n",
      "  0.746731 0.       0.       0.       0.       0.       0.       0.\n",
      "  0.       0.       0.       0.       0.       0.       0.       0.      ]]\n",
      "[[0.       0.       0.       0.       0.       0.       0.       0.\n",
      "  0.       0.       0.       0.       0.       0.       0.       0.\n",
      "  0.       0.       0.       0.       0.995582 0.393655 0.       0.\n",
      "  0.       0.       0.       0.       0.       0.       0.       0.\n",
      "  0.       0.711432 0.       0.       0.       0.       0.       0.      ]]\n",
      "[[0.       0.       0.       0.       0.       0.       0.       0.\n",
      "  0.       0.       0.       0.       0.       0.       0.       0.\n",
      "  0.       0.       0.       0.       0.       0.       0.       0.\n",
      "  0.       0.       0.957033 0.       0.       0.       0.       0.\n",
      "  0.       0.2184   0.       0.       0.       0.       0.       0.691719]]\n",
      "[[0.754591 0.       0.       0.       0.       0.       0.       0.\n",
      "  0.       0.       0.       0.       0.       0.       0.       0.\n",
      "  0.       0.       0.       0.       0.       0.       0.       0.\n",
      "  0.       0.       0.       0.       0.934696 0.       0.       0.\n",
      "  0.       0.       0.       0.       0.       0.       0.       0.      ]]\n",
      "[[0.       0.       0.       0.       0.       0.       0.       0.\n",
      "  0.       0.       0.       0.       0.       0.       0.75982  0.\n",
      "  0.       0.       0.       0.       0.225075 0.178364 0.347961 0.\n",
      "  0.       0.       0.       0.       0.       0.736412 0.       0.\n",
      "  0.       0.       0.       0.       0.       0.       0.       0.      ]]\n",
      "[[0.       0.       0.       0.       0.       0.       0.       0.\n",
      "  0.333106 0.       0.       0.       0.       0.       0.       0.\n",
      "  0.       0.       0.       0.       0.       0.       0.       0.\n",
      "  0.       0.       0.       0.       0.       0.       0.       0.\n",
      "  0.       0.       0.       0.       0.       0.83967  0.       0.      ]]\n",
      "[[0.       0.       0.       0.       0.       0.       0.       0.\n",
      "  0.       0.       0.       0.       0.       0.       0.       0.\n",
      "  0.       0.       0.       0.       0.       0.       0.       0.\n",
      "  0.       0.589888 0.       0.       0.       0.       0.       0.\n",
      "  0.       0.       0.       0.       0.       0.703514 0.       0.      ]]\n",
      "[[0.       0.       0.       0.       0.       0.       0.       0.973106\n",
      "  0.       0.       0.       0.       0.       0.       0.       0.\n",
      "  0.       0.       0.919839 0.       0.       0.801911 0.       0.\n",
      "  0.       0.       0.       0.481237 0.       0.       0.       0.428835\n",
      "  0.       0.       0.135569 0.       0.       0.       0.       0.      ]]\n",
      "[[0.588462 0.       0.       0.       0.       0.       0.751392 0.\n",
      "  0.       0.       0.       0.       0.       0.       0.654927 0.\n",
      "  0.       0.       0.       0.339897 0.       0.831877 0.       0.927447\n",
      "  0.       0.       0.       0.       0.       0.       0.       0.\n",
      "  0.247062 0.       0.       0.       0.       0.       0.       0.      ]]\n",
      "[[0.       0.       0.       0.       0.       0.       0.       0.107002\n",
      "  0.       0.       0.       0.       0.       0.       0.       0.\n",
      "  0.895806 0.       0.       0.       0.       0.       0.       0.\n",
      "  0.       0.       0.       0.       0.       0.088269 0.       0.\n",
      "  0.       0.449769 0.       0.       0.643611 0.       0.       0.      ]]\n",
      "[[0.010208 0.453463 0.       0.       0.       0.       0.       0.\n",
      "  0.       0.       0.       0.       0.601295 0.449668 0.       0.\n",
      "  0.       0.       0.796159 0.       0.       0.       0.       0.\n",
      "  0.       0.       0.       0.       0.043424 0.       0.       0.\n",
      "  0.       0.       0.       0.       0.       0.       0.       0.      ]]\n",
      "[[0.       0.       0.       0.       0.       0.       0.       0.\n",
      "  0.       0.       0.       0.       0.       0.       0.       0.\n",
      "  0.       0.       0.       0.       0.       0.686097 0.       0.\n",
      "  0.       0.       0.       0.       0.       0.       0.       0.\n",
      "  0.       0.       0.       0.       0.       0.       0.       0.      ]]\n",
      "[[0.       0.       0.       0.       0.       0.       0.       0.\n",
      "  0.       0.       0.       0.       0.       0.       0.       0.126412\n",
      "  0.161529 0.       0.       0.       0.       0.       0.739741 0.\n",
      "  0.       0.       0.       0.       0.       0.       0.       0.\n",
      "  0.       0.       0.       0.       0.       0.440827 0.       0.      ]]\n",
      "[[0.       0.       0.       0.       0.       0.       0.       0.\n",
      "  0.       0.       0.       0.       0.       0.       0.       0.\n",
      "  0.       0.273467 0.       0.       0.       0.       0.       0.\n",
      "  0.       0.       0.       0.       0.       0.970753 0.847113 0.\n",
      "  0.       0.       0.       0.       0.       0.       0.       0.      ]]\n",
      "[[0.       0.       0.797492 0.       0.       0.       0.       0.\n",
      "  0.296031 0.       0.       0.778633 0.       0.       0.       0.\n",
      "  0.542333 0.       0.272576 0.       0.       0.       0.       0.\n",
      "  0.195163 0.       0.       0.       0.807321 0.       0.       0.\n",
      "  0.       0.       0.       0.       0.       0.       0.       0.      ]]\n",
      "[[0.       0.       0.       0.       0.       0.       0.       0.\n",
      "  0.       0.       0.       0.       0.       0.       0.       0.033595\n",
      "  0.       0.       0.       0.       0.       0.       0.       0.\n",
      "  0.249908 0.639548 0.       0.       0.       0.       0.       0.\n",
      "  0.       0.       0.       0.       0.133867 0.       0.       0.      ]]\n",
      "[[0.       0.       0.       0.       0.651842 0.       0.       0.\n",
      "  0.       0.       0.       0.       0.       0.       0.       0.\n",
      "  0.       0.       0.       0.       0.       0.       0.       0.\n",
      "  0.       0.       0.       0.       0.       0.       0.       0.\n",
      "  0.       0.       0.54906  0.       0.       0.       0.       0.      ]]\n",
      "[[0.       0.       0.444286 0.       0.       0.       0.       0.\n",
      "  0.       0.       0.       0.       0.       0.       0.       0.551507\n",
      "  0.       0.       0.       0.       0.       0.       0.       0.152692\n",
      "  0.       0.       0.       0.       0.       0.       0.       0.\n",
      "  0.       0.       0.       0.       0.253074 0.       0.       0.      ]]\n",
      "[[0.       0.       0.       0.       0.       0.       0.       0.\n",
      "  0.       0.       0.       0.       0.       0.       0.       0.\n",
      "  0.       0.       0.       0.       0.       0.       0.905964 0.\n",
      "  0.       0.       0.       0.       0.982189 0.       0.573376 0.\n",
      "  0.       0.       0.       0.       0.       0.       0.       0.788716]]\n",
      "[[0.       0.575371 0.       0.       0.       0.       0.       0.\n",
      "  0.       0.       0.       0.       0.569607 0.       0.       0.\n",
      "  0.       0.220949 0.       0.       0.       0.282341 0.       0.\n",
      "  0.677957 0.       0.       0.       0.       0.       0.       0.\n",
      "  0.       0.       0.       0.       0.       0.       0.       0.      ]]\n"
     ]
    }
   ],
   "source": [
    "for i in matrix:\n",
    "    print(i)"
   ]
  },
  {
   "cell_type": "code",
   "execution_count": 48,
   "metadata": {
    "ExecuteTime": {
     "end_time": "2019-05-16T00:54:30.225910Z",
     "start_time": "2019-05-16T00:54:30.220705Z"
    },
    "init_cell": true
   },
   "outputs": [],
   "source": [
    "import torch\n",
    "from torch import nn\n",
    "import torch.nn.functional as F\n",
    "from torch.autograd import Variable\n",
    "from torch import Tensor"
   ]
  },
  {
   "cell_type": "code",
   "execution_count": 95,
   "metadata": {
    "ExecuteTime": {
     "end_time": "2019-05-16T01:17:41.181042Z",
     "start_time": "2019-05-16T01:17:41.158253Z"
    }
   },
   "outputs": [],
   "source": [
    "class LinearAutoEncoder(nn.Module):\n",
    "    def __init__(self, input_size, output_size):\n",
    "        super(LinearAutoEncoder, self).__init__()\n",
    "        self.encoder = nn.Sequential(\n",
    "            nn.Linear(input_size, 32),\n",
    "            nn.ReLU(True),\n",
    "            nn.Linear(32, 24),\n",
    "            nn.ReLU(True),\n",
    "            nn.Linear(24, 16),\n",
    "            nn.ReLU(True))\n",
    "        self.decoder = nn.Sequential(\n",
    "            nn.Linear(16, 24),\n",
    "            nn.ReLU(True),\n",
    "            nn.Linear(24, 32),\n",
    "            nn.ReLU(True),\n",
    "            nn.Linear(32, output_size),\n",
    "            nn.Sigmoid())\n",
    "\n",
    "    def forward(self, x):\n",
    "        x = self.encoder(x)\n",
    "        x = self.decoder(x)\n",
    "        return x"
   ]
  },
  {
   "cell_type": "code",
   "execution_count": 16,
   "metadata": {
    "ExecuteTime": {
     "end_time": "2019-05-16T00:38:40.193857Z",
     "start_time": "2019-05-16T00:38:40.165523Z"
    },
    "init_cell": true
   },
   "outputs": [],
   "source": [
    "from torch.utils.data import DataLoader, Dataset"
   ]
  },
  {
   "cell_type": "code",
   "execution_count": 44,
   "metadata": {
    "ExecuteTime": {
     "end_time": "2019-05-16T00:53:33.492013Z",
     "start_time": "2019-05-16T00:53:33.472858Z"
    }
   },
   "outputs": [],
   "source": [
    "class LinearDataset(Dataset):\n",
    "    '''\n",
    "    每一个 Item 是 (1, input_size) 的向量，元素范围[0, 1]\n",
    "    '''\n",
    "\n",
    "    def __init__(self, data, transform=None):\n",
    "        self.matrix = data.todense()\n",
    "        self.transform = transform\n",
    "\n",
    "    def __len__(self):\n",
    "        return len(self.matrix)\n",
    "\n",
    "    def __getitem__(self, index):\n",
    "        it = matrix[index]\n",
    "\n",
    "        if self.transform is not None:\n",
    "            it = self.transform(np.asarray(it))\n",
    "            \n",
    "        return it"
   ]
  },
  {
   "cell_type": "code",
   "execution_count": 14,
   "metadata": {
    "ExecuteTime": {
     "end_time": "2019-05-16T00:37:15.483508Z",
     "start_time": "2019-05-16T00:37:15.477523Z"
    }
   },
   "outputs": [
    {
     "data": {
      "text/plain": [
       "(50, 40)"
      ]
     },
     "execution_count": 14,
     "metadata": {},
     "output_type": "execute_result"
    }
   ],
   "source": [
    "data.shape"
   ]
  },
  {
   "cell_type": "code",
   "execution_count": 34,
   "metadata": {
    "ExecuteTime": {
     "end_time": "2019-05-16T00:50:15.316832Z",
     "start_time": "2019-05-16T00:50:15.312385Z"
    }
   },
   "outputs": [],
   "source": [
    "from Progbar import Progbar\n",
    "from scipy.stats.stats import pearsonr\n",
    "import os"
   ]
  },
  {
   "cell_type": "code",
   "execution_count": 98,
   "metadata": {
    "ExecuteTime": {
     "end_time": "2019-05-16T01:18:23.612558Z",
     "start_time": "2019-05-16T01:18:23.500427Z"
    }
   },
   "outputs": [],
   "source": [
    "def calculate_pcc_mse(output, noisy_data, MSE_loss):\n",
    "    mse = MSE_loss(output, noisy_data).data\n",
    "    np1 = output.cpu().detach().numpy().reshape(-1)\n",
    "    np2 = noisy_data.cpu().detach().numpy().reshape(-1)\n",
    "    PCC, _ = pearsonr(np1, np2)\n",
    "\n",
    "    return PCC, mse\n",
    "def predict(matrix, device=\"cpu\", num_epochs=20):\n",
    "    shape = matrix.shape\n",
    "    dataset = LinearDataset(matrix, Tensor)\n",
    "    dataloader = DataLoader(dataset, batch_size=1, shuffle=True, num_workers=3)\n",
    "    model = LinearAutoEncoder(shape[1], shape[1]).to(device)\n",
    "    MSE_loss = nn.MSELoss()\n",
    "    BCE_Loss = nn.BCELoss()\n",
    "    criterion = MSE_loss\n",
    "    optimizer = torch.optim.Adam(model.parameters(), lr=1e-3, weight_decay=1e-5)\n",
    "\n",
    "    # 训练\n",
    "    if os.path.exists(\"./model.pth\"):\n",
    "        model.load_state_dict(torch.load(\"./model.pth\", \"cpu\"))\n",
    "    else:\n",
    "        model.train()\n",
    "        for epoch in range(num_epochs):\n",
    "            print('epoch [{}/{}]'.format(epoch + 1, num_epochs))\n",
    "            prog = Progbar(len(dataloader))\n",
    "            for i, data in enumerate(dataloader):\n",
    "                noisy_data = data\n",
    "                # ===================forward=====================\n",
    "                output = model(noisy_data)\n",
    "                loss = criterion(output, noisy_data)\n",
    "                pcc, mse = calculate_pcc_mse(output, noisy_data, MSE_loss)\n",
    "                # ===================backward====================\n",
    "                optimizer.zero_grad()\n",
    "                loss.backward()\n",
    "                optimizer.step()\n",
    "                # =====================log=======================\n",
    "                prog.update(i + 1, [(\"loss\", loss.item()), (\"MSE\", mse), (\"PCC\", pcc)])\n",
    "        torch.save(model.state_dict(), \"./model.pth\")\n",
    "\n",
    "    # 预测、评价\n",
    "    model.eval()\n",
    "    dataloader2 = DataLoader(dataset, batch_size=shape[0], shuffle=True, num_workers=3)\n",
    "    for data in dataloader2:\n",
    "        noisy_data = data\n",
    "        # ===================forward=====================\n",
    "        output = model(noisy_data)\n",
    "        loss = criterion(output, noisy_data)\n",
    "        # =====================log and save==============\n",
    "        return output, loss\n",
    "        break  # 只有一个 batch, 一次全拿出来了，不会有第二个\n"
   ]
  },
  {
   "cell_type": "code",
   "execution_count": 109,
   "metadata": {
    "ExecuteTime": {
     "end_time": "2019-05-16T01:32:48.316552Z",
     "start_time": "2019-05-16T01:32:47.934171Z"
    }
   },
   "outputs": [],
   "source": [
    "output, loss = predict(data)\n",
    "save_output(output, loss)"
   ]
  },
  {
   "cell_type": "code",
   "execution_count": 59,
   "metadata": {
    "ExecuteTime": {
     "end_time": "2019-05-16T01:00:38.924447Z",
     "start_time": "2019-05-16T01:00:38.918988Z"
    }
   },
   "outputs": [
    {
     "data": {
      "text/plain": [
       "torch.Size([50, 1, 40])"
      ]
     },
     "execution_count": 59,
     "metadata": {},
     "output_type": "execute_result"
    }
   ],
   "source": [
    "output.size()"
   ]
  },
  {
   "cell_type": "code",
   "execution_count": 107,
   "metadata": {
    "ExecuteTime": {
     "end_time": "2019-05-16T01:32:36.951043Z",
     "start_time": "2019-05-16T01:32:36.933553Z"
    }
   },
   "outputs": [],
   "source": [
    "def save_output(output, loss):\n",
    "    output_data_to_save = []\n",
    "    for i in output.data:\n",
    "        it_list = []\n",
    "        for j in i[0].data:\n",
    "            it = j.item()\n",
    "            if it < 0.1:\n",
    "                it_list.append(int(0))\n",
    "            else:\n",
    "                it_list.append(it)\n",
    "        output_data_to_save.append(it_list)\n",
    "    # output_data_to_save 50x40\n",
    "\n",
    "    df_output = pd.DataFrame(output_data_to_save)\n",
    "    df_output.to_csv(\"./output_\"+str(loss.item())+\".csv\")"
   ]
  },
  {
   "cell_type": "code",
   "execution_count": 110,
   "metadata": {
    "ExecuteTime": {
     "end_time": "2019-05-16T01:49:53.238138Z",
     "start_time": "2019-05-16T01:49:53.232190Z"
    }
   },
   "outputs": [],
   "source": [
    "def save_matrix(matrix, path):\n",
    "    matrix_data = []\n",
    "    for i in np.asarray(matrix):\n",
    "        matrix_data.append([j for j in i])\n",
    "    df_matrix = pd.DataFrame(matrix_data)\n",
    "    df_matrix.to_csv(path)"
   ]
  },
  {
   "cell_type": "code",
   "execution_count": 112,
   "metadata": {
    "ExecuteTime": {
     "end_time": "2019-05-16T01:50:24.589776Z",
     "start_time": "2019-05-16T01:50:24.586042Z"
    }
   },
   "outputs": [],
   "source": [
    "def save_mat(path = '../../project/matrices/R1-3.mat', output_path = \"./R.csv\"):\n",
    "    Rmatrix = sio.loadmat(path)[\"R_attr\"].todense()\n",
    "    save_matrix(Rmatrix, output_path)"
   ]
  },
  {
   "cell_type": "code",
   "execution_count": null,
   "metadata": {},
   "outputs": [],
   "source": [
    "save_mat('../../project/matrices/R1-3.mat')"
   ]
  }
 ],
 "metadata": {
  "celltoolbar": "Initialization Cell",
  "kernelspec": {
   "display_name": "Python 3",
   "language": "python",
   "name": "python3"
  },
  "language_info": {
   "codemirror_mode": {
    "name": "ipython",
    "version": 3
   },
   "file_extension": ".py",
   "mimetype": "text/x-python",
   "name": "python",
   "nbconvert_exporter": "python",
   "pygments_lexer": "ipython3",
   "version": "3.5.2"
  },
  "varInspector": {
   "cols": {
    "lenName": 16,
    "lenType": 16,
    "lenVar": 40
   },
   "kernels_config": {
    "python": {
     "delete_cmd_postfix": "",
     "delete_cmd_prefix": "del ",
     "library": "var_list.py",
     "varRefreshCmd": "print(var_dic_list())"
    },
    "r": {
     "delete_cmd_postfix": ") ",
     "delete_cmd_prefix": "rm(",
     "library": "var_list.r",
     "varRefreshCmd": "cat(var_dic_list()) "
    }
   },
   "oldHeight": 168.5,
   "position": {
    "height": "40px",
    "left": "981px",
    "right": "20px",
    "top": "-5px",
    "width": "503px"
   },
   "types_to_exclude": [
    "module",
    "function",
    "builtin_function_or_method",
    "instance",
    "_Feature"
   ],
   "varInspector_section_display": "none",
   "window_display": true
  }
 },
 "nbformat": 4,
 "nbformat_minor": 2
}
