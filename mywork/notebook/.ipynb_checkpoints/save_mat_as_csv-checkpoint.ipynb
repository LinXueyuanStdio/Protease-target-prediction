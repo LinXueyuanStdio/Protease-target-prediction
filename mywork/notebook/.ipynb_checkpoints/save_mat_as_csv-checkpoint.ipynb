{
 "cells": [
  {
   "cell_type": "markdown",
   "metadata": {
    "ExecuteTime": {
     "end_time": "2019-06-07T15:26:59.737933Z",
     "start_time": "2019-06-07T15:26:59.712754Z"
    }
   },
   "source": [
    "# 转换`.mat`文件为`.csv`文件"
   ]
  },
  {
   "cell_type": "code",
   "execution_count": 4,
   "metadata": {
    "ExecuteTime": {
     "end_time": "2019-06-07T15:54:46.306915Z",
     "start_time": "2019-06-07T15:54:44.991972Z"
    }
   },
   "outputs": [],
   "source": [
    "import scipy.io as sio\n",
    "import matplotlib.pyplot as plt\n",
    "import numpy as np\n",
    "import pandas as pd"
   ]
  },
  {
   "cell_type": "code",
   "execution_count": 16,
   "metadata": {
    "ExecuteTime": {
     "end_time": "2019-06-07T16:20:19.313191Z",
     "start_time": "2019-06-07T16:20:19.296568Z"
    }
   },
   "outputs": [
    {
     "name": "stdout",
     "output_type": "stream",
     "text": [
      "init\n"
     ]
    }
   ],
   "source": [
    "class MatCsvPair:\n",
    "    def __init__(self):\n",
    "        print(\"init\")\n",
    "        \n",
    "    def getRPair(self, name=\"R1-3\"):\n",
    "        return ('../../project/main/matrices/{}.mat'.format(name), \"./{}.csv\".format(name))\n",
    "    \n",
    "    def getObjectPair(self, name=\"objectA\"):\n",
    "        return ('../../project/main/objects/{}.mat'.format(name), \"./{}.csv\".format(name))\n",
    "    \n",
    "    def getSAME_NewFoundRelationPair(self, name=\"new_found_relations\"):\n",
    "        return ('../../project/main/output_s/{}.mat'.format(name), \"./{}.csv\".format(name))\n",
    "    \n",
    "    def getDIFF_NewFoundRelationPair(self, name=\"new_found_relations_row\"):\n",
    "        return ('../../project/main/output_d/{}.mat'.format(name), \"./{}.csv\".format(name))\n",
    "\n",
    "pathPair = MatCsvPair()"
   ]
  },
  {
   "cell_type": "markdown",
   "metadata": {},
   "source": [
    "## Object\n",
    "\n",
    "包括 ObjectA, ObjectB, ObjectC 等"
   ]
  },
  {
   "cell_type": "code",
   "execution_count": 6,
   "metadata": {
    "ExecuteTime": {
     "end_time": "2019-06-07T15:56:10.095011Z",
     "start_time": "2019-06-07T15:56:10.087784Z"
    }
   },
   "outputs": [],
   "source": [
    "def load_Object(mat_path, key = \"vett\"):\n",
    "    \"\"\"加载mat_path文件中标签为key的那个矩阵，返回构造好的list\n",
    "    \"\"\"\n",
    "    matrix = sio.loadmat(mat_path)[key]\n",
    "    new_matrix = []\n",
    "    for i in matrix:\n",
    "        new_matrix.append(i[0][0])\n",
    "    return new_matrix"
   ]
  },
  {
   "cell_type": "code",
   "execution_count": 13,
   "metadata": {
    "ExecuteTime": {
     "end_time": "2019-06-07T16:10:49.401845Z",
     "start_time": "2019-06-07T16:10:49.372536Z"
    }
   },
   "outputs": [],
   "source": [
    "def save_Object_mat_to_csv(mat_path, output_path):\n",
    "    new_matrix = load_Object(mat_path)\n",
    "    df_matrix = pd.DataFrame(new_matrix)\n",
    "    df_matrix.to_csv(output_path)\n",
    "\n",
    "save_Object_mat_to_csv('../../project/main/objects/objectA.mat', \"./objectA.csv\")\n",
    "save_Object_mat_to_csv('../../project/main/objects/objectB.mat', \"./objectB.csv\")\n",
    "save_Object_mat_to_csv('../../project/main/objects/objectC.mat', \"./objectC.csv\")"
   ]
  },
  {
   "cell_type": "markdown",
   "metadata": {},
   "source": [
    "## R\n",
    "\n",
    "R矩阵，包括 R1-2.mat, R1-3.mat, R2-3.mat, R2-1.mat, R2-3.mat, R3-1.mat\n",
    "\n",
    "R矩阵是不同数据类型的关系矩阵"
   ]
  },
  {
   "cell_type": "code",
   "execution_count": 14,
   "metadata": {
    "ExecuteTime": {
     "end_time": "2019-06-07T16:15:07.608679Z",
     "start_time": "2019-06-07T16:15:07.599195Z"
    }
   },
   "outputs": [],
   "source": [
    "def save_matrix(matrix, path):\n",
    "    matrix_data = []\n",
    "    for i in np.asarray(matrix):\n",
    "        matrix_data.append([j for j in i])\n",
    "    df_matrix = pd.DataFrame(matrix_data)\n",
    "    df_matrix.to_csv(path)\n",
    "\n",
    "def save_OriginalR_mat_to_csv(path = '../../project/main/matrices/R1-3.mat', output_path = \"./R.csv\"):\n",
    "    Rmatrix = sio.loadmat(path)[\"R_matr\"].todense()\n",
    "    save_matrix(Rmatrix, output_path)"
   ]
  },
  {
   "cell_type": "code",
   "execution_count": 15,
   "metadata": {
    "ExecuteTime": {
     "end_time": "2019-06-07T16:15:09.170196Z",
     "start_time": "2019-06-07T16:15:09.150668Z"
    }
   },
   "outputs": [],
   "source": [
    "save_OriginalR_mat_to_csv('../../project/main/matrices/R1-3.mat', \"./R1-3.csv\")"
   ]
  },
  {
   "cell_type": "markdown",
   "metadata": {},
   "source": [
    "## new_found_relations : SAME MODE and DIFFERENT MODE\n",
    "\n",
    "`new_found_relations.mat` in SAME MODE is generated from `R1-3.mat`, etc.\n",
    "\n",
    "`new_found_relations_row.mat` and `new_found_relations_col.mat` in DIFFERENT MODE is generated from `Theta.mat`, etc.\n"
   ]
  },
  {
   "cell_type": "code",
   "execution_count": null,
   "metadata": {},
   "outputs": [],
   "source": [
    "def save_SAME_MODE_new_found_relations_mat_to_csv(path = '../../project/main/output_s/new_found_relations.csv', output_path=\"./new_found_relations.csv\"):\n",
    "    pd_idx = load_Object(matPath='../../project/main/objects/objectA.mat')\n",
    "    pd_col = load_Object(matPath='../../project/main/objects/objectC.mat')\n",
    "    pd_complete = pd.DataFrame(data=[[0.0]*50]*50, index = pd_idx, columns=pd_idx)\n",
    "    with open(path, \"r\") as F:\n",
    "        for i in F.readlines():\n",
    "            ap = i.split(',')\n",
    "            key_x = ap[0]\n",
    "            key_y = ap[1]\n",
    "            value = float(ap[2])\n",
    "            pd_complete[key_x][key_y] = value\n",
    "    pd_complete.to_csv(output_path)\n",
    "    return pd_complete"
   ]
  },
  {
   "cell_type": "code",
   "execution_count": null,
   "metadata": {},
   "outputs": [],
   "source": [
    "def save_DIFF_MODE_new_found_relations_mat_to_csv(path = '../../project/main/output_d/new_found_relations_row.csv', output_path=\"./new_found_relations.csv\"):\n",
    "    pd_idx = load_Object(matPath='../../project/main/objects/objectA.mat')\n",
    "    pd_col = load_Object(matPath='../../project/main/objects/objectC.mat')\n",
    "    pd_complete = pd.DataFrame(data=[[0.0]*50]*50, index = pd_idx, columns=pd_col)\n",
    "    with open(path, \"r\") as F:\n",
    "        for i in F.readlines():\n",
    "            ap = i.split(',')\n",
    "            key_x = ap[0]\n",
    "            key_y = ap[1]\n",
    "            value = float(ap[2])\n",
    "            pd_complete[key_x][key_y] = value\n",
    "    pd_complete.to_csv(output_path)\n",
    "    return pd_complete"
   ]
  },
  {
   "cell_type": "code",
   "execution_count": 19,
   "metadata": {
    "ExecuteTime": {
     "end_time": "2019-06-07T16:21:54.580613Z",
     "start_time": "2019-06-07T16:21:54.573733Z"
    }
   },
   "outputs": [
    {
     "data": {
      "text/plain": [
       "40"
      ]
     },
     "execution_count": 19,
     "metadata": {},
     "output_type": "execute_result"
    }
   ],
   "source": [
    "pd_col = load_Object(mat_path='../../project/main/objects/objectC.mat')\n",
    "len(pd_col)"
   ]
  },
  {
   "cell_type": "code",
   "execution_count": null,
   "metadata": {},
   "outputs": [],
   "source": []
  },
  {
   "cell_type": "code",
   "execution_count": null,
   "metadata": {},
   "outputs": [],
   "source": []
  },
  {
   "cell_type": "code",
   "execution_count": null,
   "metadata": {},
   "outputs": [],
   "source": []
  },
  {
   "cell_type": "code",
   "execution_count": null,
   "metadata": {},
   "outputs": [],
   "source": []
  },
  {
   "cell_type": "code",
   "execution_count": null,
   "metadata": {},
   "outputs": [],
   "source": []
  },
  {
   "cell_type": "code",
   "execution_count": null,
   "metadata": {},
   "outputs": [],
   "source": []
  },
  {
   "cell_type": "code",
   "execution_count": null,
   "metadata": {},
   "outputs": [],
   "source": []
  },
  {
   "cell_type": "code",
   "execution_count": null,
   "metadata": {},
   "outputs": [],
   "source": []
  }
 ],
 "metadata": {
  "kernelspec": {
   "display_name": "Python 3",
   "language": "python",
   "name": "python3"
  },
  "language_info": {
   "codemirror_mode": {
    "name": "ipython",
    "version": 3
   },
   "file_extension": ".py",
   "mimetype": "text/x-python",
   "name": "python",
   "nbconvert_exporter": "python",
   "pygments_lexer": "ipython3",
   "version": "3.5.2"
  },
  "varInspector": {
   "cols": {
    "lenName": 16,
    "lenType": 16,
    "lenVar": 40
   },
   "kernels_config": {
    "python": {
     "delete_cmd_postfix": "",
     "delete_cmd_prefix": "del ",
     "library": "var_list.py",
     "varRefreshCmd": "print(var_dic_list())"
    },
    "r": {
     "delete_cmd_postfix": ") ",
     "delete_cmd_prefix": "rm(",
     "library": "var_list.r",
     "varRefreshCmd": "cat(var_dic_list()) "
    }
   },
   "types_to_exclude": [
    "module",
    "function",
    "builtin_function_or_method",
    "instance",
    "_Feature"
   ],
   "window_display": true
  }
 },
 "nbformat": 4,
 "nbformat_minor": 2
}
