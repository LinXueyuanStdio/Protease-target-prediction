{
 "cells": [
  {
   "cell_type": "code",
   "execution_count": null,
   "metadata": {
    "ExecuteTime": {
     "end_time": "2019-06-08T09:25:11.518270Z",
     "start_time": "2019-06-08T09:25:10.836649Z"
    },
    "scrolled": false
   },
   "outputs": [],
   "source": [
    "import scipy.io as sio\n",
    "import matplotlib.pyplot as plt\n",
    "import numpy as np\n",
    "import pandas as pd\n",
    "from mat2csv import MatCsvPathPair, DataManager\n",
    "\n",
    "p = MatCsvPathPair()\n",
    "dm = DataManager()"
   ]
  },
  {
   "cell_type": "code",
   "execution_count": null,
   "metadata": {
    "ExecuteTime": {
     "end_time": "2019-06-08T09:25:22.263397Z",
     "start_time": "2019-06-08T09:25:22.158010Z"
    },
    "scrolled": true
   },
   "outputs": [],
   "source": [
    "pd_complete = dm.load(\"new_found_relation\")(p.getObjectPair(\"objectA\")[0], \n",
    "                                            p.getObjectPair(\"objectA\")[0], \n",
    "                                            p.getSAME_NewFoundRelationPair()[0])"
   ]
  },
  {
   "cell_type": "code",
   "execution_count": null,
   "metadata": {
    "ExecuteTime": {
     "end_time": "2019-06-08T09:25:25.433764Z",
     "start_time": "2019-06-08T09:25:25.412588Z"
    }
   },
   "outputs": [],
   "source": [
    "data = []\n",
    "npdata = pd_complete.to_numpy()\n",
    "for i in range(len(npdata)):\n",
    "    for j in range(len(npdata[i])):\n",
    "        data.append([pd_complete.index[i], pd_complete.columns[j], 10*npdata[i][j]])"
   ]
  },
  {
   "cell_type": "code",
   "execution_count": null,
   "metadata": {
    "ExecuteTime": {
     "end_time": "2019-06-08T09:26:03.501700Z",
     "start_time": "2019-06-08T09:26:03.484818Z"
    }
   },
   "outputs": [],
   "source": [
    "from pyecharts import options as opts\n",
    "from pyecharts.charts import Bar3D\n",
    "\n",
    "def bar3d_base() -> Bar3D:\n",
    "    #data = [(i, j, random.randint(0, 12)) for i in range(6) for j in range(24)]\n",
    "    c = (\n",
    "        Bar3D()\n",
    "        .add(\n",
    "            \"\",\n",
    "            data,\n",
    "            xaxis3d_opts=opts.Axis3DOpts(type_=\"category\"),\n",
    "            yaxis3d_opts=opts.Axis3DOpts(type_=\"category\"),\n",
    "            zaxis3d_opts=opts.Axis3DOpts(type_=\"value\"),\n",
    "        )\n",
    "        .set_global_opts(\n",
    "            visualmap_opts=opts.VisualMapOpts(max_=10),\n",
    "            title_opts=opts.TitleOpts(title=\"Bar3D-基本示例\"),\n",
    "        )\n",
    "    )\n",
    "    return c\n",
    "c = bar3d_base()\n",
    "c.render_notebook()"
   ]
  }
 ],
 "metadata": {
  "kernelspec": {
   "display_name": "Python 3",
   "language": "python",
   "name": "python3"
  },
  "language_info": {
   "codemirror_mode": {
    "name": "ipython",
    "version": 3
   },
   "file_extension": ".py",
   "mimetype": "text/x-python",
   "name": "python",
   "nbconvert_exporter": "python",
   "pygments_lexer": "ipython3",
   "version": "3.5.2"
  },
  "varInspector": {
   "cols": {
    "lenName": 16,
    "lenType": 16,
    "lenVar": 40
   },
   "kernels_config": {
    "python": {
     "delete_cmd_postfix": "",
     "delete_cmd_prefix": "del ",
     "library": "var_list.py",
     "varRefreshCmd": "print(var_dic_list())"
    },
    "r": {
     "delete_cmd_postfix": ") ",
     "delete_cmd_prefix": "rm(",
     "library": "var_list.r",
     "varRefreshCmd": "cat(var_dic_list()) "
    }
   },
   "types_to_exclude": [
    "module",
    "function",
    "builtin_function_or_method",
    "instance",
    "_Feature"
   ],
   "window_display": true
  }
 },
 "nbformat": 4,
 "nbformat_minor": 2
}
